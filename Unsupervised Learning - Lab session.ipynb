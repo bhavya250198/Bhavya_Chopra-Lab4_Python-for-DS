{
 "cells": [
  {
   "cell_type": "markdown",
   "id": "83f26a29",
   "metadata": {
    "id": "83f26a29"
   },
   "source": [
    "# Unsupervised Lab Session"
   ]
  },
  {
   "cell_type": "markdown",
   "id": "8ea571d1",
   "metadata": {
    "id": "8ea571d1"
   },
   "source": [
    "## Learning outcomes:\n",
    "- Exploratory data analysis and data preparation for model building.\n",
    "- PCA for dimensionality reduction.\n",
    "- K-means and Agglomerative Clustering"
   ]
  },
  {
   "cell_type": "markdown",
   "id": "fd7f778a",
   "metadata": {
    "id": "fd7f778a"
   },
   "source": [
    "## Problem Statement\n",
    "Based on the given marketing campigan dataset, segment the similar customers into suitable clusters. Analyze the clusters and provide your insights to help the organization promote their business."
   ]
  },
  {
   "cell_type": "markdown",
   "id": "33b58f8f",
   "metadata": {
    "id": "33b58f8f"
   },
   "source": [
    "## Context:\n",
    "- Customer Personality Analysis is a detailed analysis of a company’s ideal customers. It helps a business to better understand its customers and makes it easier for them to modify products according to the specific needs, behaviors and concerns of different types of customers.\n",
    "- Customer personality analysis helps a business to modify its product based on its target customers from different types of customer segments. For example, instead of spending money to market a new product to every customer in the company’s database, a company can analyze which customer segment is most likely to buy the product and then market the product only on that particular segment."
   ]
  },
  {
   "cell_type": "markdown",
   "id": "867166aa",
   "metadata": {
    "id": "867166aa"
   },
   "source": [
    "## About dataset\n",
    "- Source: https://www.kaggle.com/datasets/imakash3011/customer-personality-analysis?datasetId=1546318&sortBy=voteCount\n",
    "\n",
    "### Attribute Information:\n",
    "- ID: Customer's unique identifier\n",
    "- Year_Birth: Customer's birth year\n",
    "- Education: Customer's education level\n",
    "- Marital_Status: Customer's marital status\n",
    "- Income: Customer's yearly household income\n",
    "- Kidhome: Number of children in customer's household\n",
    "- Teenhome: Number of teenagers in customer's household\n",
    "- Dt_Customer: Date of customer's enrollment with the company\n",
    "- Recency: Number of days since customer's last purchase\n",
    "- Complain: 1 if the customer complained in the last 2 years, 0 otherwise\n",
    "- MntWines: Amount spent on wine in last 2 years\n",
    "- MntFruits: Amount spent on fruits in last 2 years\n",
    "- MntMeatProducts: Amount spent on meat in last 2 years\n",
    "- MntFishProducts: Amount spent on fish in last 2 years\n",
    "- MntSweetProducts: Amount spent on sweets in last 2 years\n",
    "- MntGoldProds: Amount spent on gold in last 2 years\n",
    "- NumDealsPurchases: Number of purchases made with a discount\n",
    "- AcceptedCmp1: 1 if customer accepted the offer in the 1st campaign, 0 otherwise\n",
    "- AcceptedCmp2: 1 if customer accepted the offer in the 2nd campaign, 0 otherwise\n",
    "- AcceptedCmp3: 1 if customer accepted the offer in the 3rd campaign, 0 otherwise\n",
    "- AcceptedCmp4: 1 if customer accepted the offer in the 4th campaign, 0 otherwise\n",
    "- AcceptedCmp5: 1 if customer accepted the offer in the 5th campaign, 0 otherwise\n",
    "- Response: 1 if customer accepted the offer in the last campaign, 0 otherwise\n",
    "- NumWebPurchases: Number of purchases made through the company’s website\n",
    "- NumCatalogPurchases: Number of purchases made using a catalogue\n",
    "- NumStorePurchases: Number of purchases made directly in stores\n",
    "- NumWebVisitsMonth: Number of visits to company’s website in the last month"
   ]
  },
  {
   "cell_type": "markdown",
   "id": "5a830406",
   "metadata": {
    "id": "5a830406"
   },
   "source": [
    "### 1. Import required libraries"
   ]
  },
  {
   "cell_type": "code",
   "execution_count": 2,
   "id": "d65c5528",
   "metadata": {
    "id": "d65c5528"
   },
   "outputs": [],
   "source": [
    "import pandas as pd;"
   ]
  },
  {
   "cell_type": "markdown",
   "id": "c80eb960",
   "metadata": {
    "id": "c80eb960"
   },
   "source": [
    "### 2. Load the CSV file (i.e marketing.csv) and display the first 5 rows of the dataframe. Check the shape and info of the dataset."
   ]
  },
  {
   "cell_type": "code",
   "execution_count": 11,
   "id": "1caebc10",
   "metadata": {
    "id": "1caebc10"
   },
   "outputs": [
    {
     "name": "stdout",
     "output_type": "stream",
     "text": [
      "     ID  Year_Birth   Education Marital_Status   Income  Kidhome  Teenhome  \\\n",
      "0  5524        1957  Graduation         Single  58138.0        0         0   \n",
      "1  2174        1954  Graduation         Single  46344.0        1         1   \n",
      "2  4141        1965  Graduation       Together  71613.0        0         0   \n",
      "3  6182        1984  Graduation       Together  26646.0        1         0   \n",
      "4  5324        1981         PhD        Married  58293.0        1         0   \n",
      "\n",
      "  Dt_Customer  Recency  MntWines  ...  NumCatalogPurchases  NumStorePurchases  \\\n",
      "0    4/9/2012       58       635  ...                   10                  4   \n",
      "1    8/3/2014       38        11  ...                    1                  2   \n",
      "2  21-08-2013       26       426  ...                    2                 10   \n",
      "3   10/2/2014       26        11  ...                    0                  4   \n",
      "4  19-01-2014       94       173  ...                    3                  6   \n",
      "\n",
      "   NumWebVisitsMonth  AcceptedCmp3  AcceptedCmp4  AcceptedCmp5  AcceptedCmp1  \\\n",
      "0                  7             0             0             0             0   \n",
      "1                  5             0             0             0             0   \n",
      "2                  4             0             0             0             0   \n",
      "3                  6             0             0             0             0   \n",
      "4                  5             0             0             0             0   \n",
      "\n",
      "   AcceptedCmp2  Complain  Response  \n",
      "0             0         0         1  \n",
      "1             0         0         0  \n",
      "2             0         0         0  \n",
      "3             0         0         0  \n",
      "4             0         0         0  \n",
      "\n",
      "[5 rows x 27 columns]\n",
      "(2240, 27)\n",
      "<bound method DataFrame.info of          ID  Year_Birth   Education Marital_Status   Income  Kidhome  \\\n",
      "0      5524        1957  Graduation         Single  58138.0        0   \n",
      "1      2174        1954  Graduation         Single  46344.0        1   \n",
      "2      4141        1965  Graduation       Together  71613.0        0   \n",
      "3      6182        1984  Graduation       Together  26646.0        1   \n",
      "4      5324        1981         PhD        Married  58293.0        1   \n",
      "...     ...         ...         ...            ...      ...      ...   \n",
      "2235  10870        1967  Graduation        Married  61223.0        0   \n",
      "2236   4001        1946         PhD       Together  64014.0        2   \n",
      "2237   7270        1981  Graduation       Divorced  56981.0        0   \n",
      "2238   8235        1956      Master       Together  69245.0        0   \n",
      "2239   9405        1954         PhD        Married  52869.0        1   \n",
      "\n",
      "      Teenhome Dt_Customer  Recency  MntWines  ...  NumCatalogPurchases  \\\n",
      "0            0    4/9/2012       58       635  ...                   10   \n",
      "1            1    8/3/2014       38        11  ...                    1   \n",
      "2            0  21-08-2013       26       426  ...                    2   \n",
      "3            0   10/2/2014       26        11  ...                    0   \n",
      "4            0  19-01-2014       94       173  ...                    3   \n",
      "...        ...         ...      ...       ...  ...                  ...   \n",
      "2235         1  13-06-2013       46       709  ...                    3   \n",
      "2236         1   10/6/2014       56       406  ...                    2   \n",
      "2237         0  25-01-2014       91       908  ...                    3   \n",
      "2238         1  24-01-2014        8       428  ...                    5   \n",
      "2239         1  15-10-2012       40        84  ...                    1   \n",
      "\n",
      "      NumStorePurchases  NumWebVisitsMonth  AcceptedCmp3  AcceptedCmp4  \\\n",
      "0                     4                  7             0             0   \n",
      "1                     2                  5             0             0   \n",
      "2                    10                  4             0             0   \n",
      "3                     4                  6             0             0   \n",
      "4                     6                  5             0             0   \n",
      "...                 ...                ...           ...           ...   \n",
      "2235                  4                  5             0             0   \n",
      "2236                  5                  7             0             0   \n",
      "2237                 13                  6             0             1   \n",
      "2238                 10                  3             0             0   \n",
      "2239                  4                  7             0             0   \n",
      "\n",
      "      AcceptedCmp5  AcceptedCmp1  AcceptedCmp2  Complain  Response  \n",
      "0                0             0             0         0         1  \n",
      "1                0             0             0         0         0  \n",
      "2                0             0             0         0         0  \n",
      "3                0             0             0         0         0  \n",
      "4                0             0             0         0         0  \n",
      "...            ...           ...           ...       ...       ...  \n",
      "2235             0             0             0         0         0  \n",
      "2236             0             1             0         0         0  \n",
      "2237             0             0             0         0         0  \n",
      "2238             0             0             0         0         0  \n",
      "2239             0             0             0         0         1  \n",
      "\n",
      "[2240 rows x 27 columns]>\n"
     ]
    }
   ],
   "source": [
    "df = pd.read_csv(\"C:/Users/ASUS-NB/Downloads/Lab 4 - Unsu[ervised learinng/marketing.csv\")\n",
    "print(df.head(5))\n",
    "#shape\n",
    "print(df.shape)\n",
    "#info\n",
    "print(df.info)"
   ]
  },
  {
   "cell_type": "markdown",
   "id": "9ef75724",
   "metadata": {
    "id": "9ef75724"
   },
   "source": [
    "### 3. Check the percentage of missing values? If there is presence of missing values, treat them accordingly."
   ]
  },
  {
   "cell_type": "code",
   "execution_count": 16,
   "id": "f2c231df",
   "metadata": {
    "id": "f2c231df"
   },
   "outputs": [
    {
     "name": "stdout",
     "output_type": "stream",
     "text": [
      "\n",
      "After handling missing values:\n",
      "ID                     0\n",
      "Year_Birth             0\n",
      "Education              0\n",
      "Marital_Status         0\n",
      "Income                 0\n",
      "Kidhome                0\n",
      "Teenhome               0\n",
      "Dt_Customer            0\n",
      "Recency                0\n",
      "MntWines               0\n",
      "MntFruits              0\n",
      "MntMeatProducts        0\n",
      "MntFishProducts        0\n",
      "MntSweetProducts       0\n",
      "MntGoldProds           0\n",
      "NumDealsPurchases      0\n",
      "NumWebPurchases        0\n",
      "NumCatalogPurchases    0\n",
      "NumStorePurchases      0\n",
      "NumWebVisitsMonth      0\n",
      "AcceptedCmp3           0\n",
      "AcceptedCmp4           0\n",
      "AcceptedCmp5           0\n",
      "AcceptedCmp1           0\n",
      "AcceptedCmp2           0\n",
      "Complain               0\n",
      "Response               0\n",
      "dtype: int64\n"
     ]
    }
   ],
   "source": [
    "# Check for missing values and calculate the percentage of missing values in each column\n",
    "missing_percentage = (df.isnull().sum() / len(df)) * 100\n",
    "# print(missing_percentage)\n",
    "df_cleaned = df.dropna()\n",
    "print(\"\\nAfter handling missing values:\")\n",
    "print(df_cleaned.isnull().sum())"
   ]
  },
  {
   "cell_type": "markdown",
   "id": "86f3709e",
   "metadata": {
    "id": "86f3709e"
   },
   "source": [
    "### 4. Check if there are any duplicate records in the dataset? If any drop them."
   ]
  },
  {
   "cell_type": "code",
   "execution_count": 19,
   "id": "2970671a",
   "metadata": {
    "id": "2970671a"
   },
   "outputs": [
    {
     "name": "stdout",
     "output_type": "stream",
     "text": [
      "         ID  Year_Birth   Education Marital_Status   Income  Kidhome  \\\n",
      "0      5524        1957  Graduation         Single  58138.0        0   \n",
      "1      2174        1954  Graduation         Single  46344.0        1   \n",
      "2      4141        1965  Graduation       Together  71613.0        0   \n",
      "3      6182        1984  Graduation       Together  26646.0        1   \n",
      "4      5324        1981         PhD        Married  58293.0        1   \n",
      "...     ...         ...         ...            ...      ...      ...   \n",
      "2235  10870        1967  Graduation        Married  61223.0        0   \n",
      "2236   4001        1946         PhD       Together  64014.0        2   \n",
      "2237   7270        1981  Graduation       Divorced  56981.0        0   \n",
      "2238   8235        1956      Master       Together  69245.0        0   \n",
      "2239   9405        1954         PhD        Married  52869.0        1   \n",
      "\n",
      "      Teenhome Dt_Customer  Recency  MntWines  ...  NumCatalogPurchases  \\\n",
      "0            0    4/9/2012       58       635  ...                   10   \n",
      "1            1    8/3/2014       38        11  ...                    1   \n",
      "2            0  21-08-2013       26       426  ...                    2   \n",
      "3            0   10/2/2014       26        11  ...                    0   \n",
      "4            0  19-01-2014       94       173  ...                    3   \n",
      "...        ...         ...      ...       ...  ...                  ...   \n",
      "2235         1  13-06-2013       46       709  ...                    3   \n",
      "2236         1   10/6/2014       56       406  ...                    2   \n",
      "2237         0  25-01-2014       91       908  ...                    3   \n",
      "2238         1  24-01-2014        8       428  ...                    5   \n",
      "2239         1  15-10-2012       40        84  ...                    1   \n",
      "\n",
      "      NumStorePurchases  NumWebVisitsMonth  AcceptedCmp3  AcceptedCmp4  \\\n",
      "0                     4                  7             0             0   \n",
      "1                     2                  5             0             0   \n",
      "2                    10                  4             0             0   \n",
      "3                     4                  6             0             0   \n",
      "4                     6                  5             0             0   \n",
      "...                 ...                ...           ...           ...   \n",
      "2235                  4                  5             0             0   \n",
      "2236                  5                  7             0             0   \n",
      "2237                 13                  6             0             1   \n",
      "2238                 10                  3             0             0   \n",
      "2239                  4                  7             0             0   \n",
      "\n",
      "      AcceptedCmp5  AcceptedCmp1  AcceptedCmp2  Complain  Response  \n",
      "0                0             0             0         0         1  \n",
      "1                0             0             0         0         0  \n",
      "2                0             0             0         0         0  \n",
      "3                0             0             0         0         0  \n",
      "4                0             0             0         0         0  \n",
      "...            ...           ...           ...       ...       ...  \n",
      "2235             0             0             0         0         0  \n",
      "2236             0             1             0         0         0  \n",
      "2237             0             0             0         0         0  \n",
      "2238             0             0             0         0         0  \n",
      "2239             0             0             0         0         1  \n",
      "\n",
      "[2240 rows x 27 columns]\n"
     ]
    }
   ],
   "source": [
    "duplicate_rows = df.duplicated()\n",
    "\n",
    "df_cleaned = df.drop_duplicates()\n",
    "print(df_cleaned)"
   ]
  },
  {
   "cell_type": "markdown",
   "id": "3a6f2b5a",
   "metadata": {
    "id": "3a6f2b5a"
   },
   "source": [
    "### 5. Drop the columns which you think redundant for the analysis "
   ]
  },
  {
   "cell_type": "code",
   "execution_count": 20,
   "id": "a9ca818b",
   "metadata": {
    "id": "a9ca818b"
   },
   "outputs": [
    {
     "name": "stdout",
     "output_type": "stream",
     "text": [
      "      Year_Birth   Education Marital_Status   Income  Kidhome  Teenhome  \\\n",
      "0           1957  Graduation         Single  58138.0        0         0   \n",
      "1           1954  Graduation         Single  46344.0        1         1   \n",
      "2           1965  Graduation       Together  71613.0        0         0   \n",
      "3           1984  Graduation       Together  26646.0        1         0   \n",
      "4           1981         PhD        Married  58293.0        1         0   \n",
      "...          ...         ...            ...      ...      ...       ...   \n",
      "2235        1967  Graduation        Married  61223.0        0         1   \n",
      "2236        1946         PhD       Together  64014.0        2         1   \n",
      "2237        1981  Graduation       Divorced  56981.0        0         0   \n",
      "2238        1956      Master       Together  69245.0        0         1   \n",
      "2239        1954         PhD        Married  52869.0        1         1   \n",
      "\n",
      "      Recency  MntWines  MntFruits  MntMeatProducts  ...  NumWebPurchases  \\\n",
      "0          58       635         88              546  ...                8   \n",
      "1          38        11          1                6  ...                1   \n",
      "2          26       426         49              127  ...                8   \n",
      "3          26        11          4               20  ...                2   \n",
      "4          94       173         43              118  ...                5   \n",
      "...       ...       ...        ...              ...  ...              ...   \n",
      "2235       46       709         43              182  ...                9   \n",
      "2236       56       406          0               30  ...                8   \n",
      "2237       91       908         48              217  ...                2   \n",
      "2238        8       428         30              214  ...                6   \n",
      "2239       40        84          3               61  ...                3   \n",
      "\n",
      "      NumCatalogPurchases  NumStorePurchases  NumWebVisitsMonth  AcceptedCmp3  \\\n",
      "0                      10                  4                  7             0   \n",
      "1                       1                  2                  5             0   \n",
      "2                       2                 10                  4             0   \n",
      "3                       0                  4                  6             0   \n",
      "4                       3                  6                  5             0   \n",
      "...                   ...                ...                ...           ...   \n",
      "2235                    3                  4                  5             0   \n",
      "2236                    2                  5                  7             0   \n",
      "2237                    3                 13                  6             0   \n",
      "2238                    5                 10                  3             0   \n",
      "2239                    1                  4                  7             0   \n",
      "\n",
      "      AcceptedCmp4  AcceptedCmp5  AcceptedCmp1  AcceptedCmp2  Response  \n",
      "0                0             0             0             0         1  \n",
      "1                0             0             0             0         0  \n",
      "2                0             0             0             0         0  \n",
      "3                0             0             0             0         0  \n",
      "4                0             0             0             0         0  \n",
      "...            ...           ...           ...           ...       ...  \n",
      "2235             0             0             0             0         0  \n",
      "2236             0             0             1             0         0  \n",
      "2237             1             0             0             0         0  \n",
      "2238             0             0             0             0         0  \n",
      "2239             0             0             0             0         1  \n",
      "\n",
      "[2240 rows x 24 columns]\n"
     ]
    }
   ],
   "source": [
    "# Dropping potentially redundant columns\n",
    "redundant_columns = ['ID', 'Dt_Customer', 'Complain']\n",
    "df_cleaned = df.drop(columns=redundant_columns)\n",
    "print(df_cleaned)"
   ]
  },
  {
   "cell_type": "markdown",
   "id": "4ff0a112",
   "metadata": {
    "id": "4ff0a112"
   },
   "source": [
    "### 6. Check the unique categories in the column 'Marital_Status'\n",
    "- i) Group categories 'Married', 'Together' as 'relationship'\n",
    "- ii) Group categories 'Divorced', 'Widow', 'Alone', 'YOLO', and 'Absurd' as 'Single'."
   ]
  },
  {
   "cell_type": "code",
   "execution_count": 25,
   "id": "eb1be519",
   "metadata": {
    "id": "eb1be519"
   },
   "outputs": [
    {
     "name": "stdout",
     "output_type": "stream",
     "text": [
      "['Single' 'relationship']\n"
     ]
    }
   ],
   "source": [
    "# Define mapping for grouping categories\n",
    "group_mapping = {\n",
    "    'Married': 'relationship',\n",
    "    'Together': 'relationship',\n",
    "    'Divorced': 'Single',\n",
    "    'Widow': 'Single',\n",
    "    'Alone': 'Single',\n",
    "    'YOLO': 'Single',\n",
    "    'Absurd': 'Single'\n",
    "}\n",
    "\n",
    "# Replace values in the 'Marital_Status' column according to the defined groups\n",
    "df['Marital_Status'] = df['Marital_Status'].replace(group_mapping)\n",
    "print(df['Marital_Status'].unique())"
   ]
  },
  {
   "cell_type": "markdown",
   "id": "9566bfbe",
   "metadata": {
    "id": "9566bfbe"
   },
   "source": [
    "### 7. Group the columns 'MntWines', 'MntFruits', 'MntMeatProducts', 'MntFishProducts', 'MntSweetProducts', and 'MntGoldProds' as 'Total_Expenses'"
   ]
  },
  {
   "cell_type": "code",
   "execution_count": 26,
   "id": "3c3fa800",
   "metadata": {
    "id": "3c3fa800"
   },
   "outputs": [
    {
     "name": "stdout",
     "output_type": "stream",
     "text": [
      "     ID  Year_Birth   Education Marital_Status   Income  Kidhome  Teenhome  \\\n",
      "0  5524        1957  Graduation         Single  58138.0        0         0   \n",
      "1  2174        1954  Graduation         Single  46344.0        1         1   \n",
      "2  4141        1965  Graduation   relationship  71613.0        0         0   \n",
      "3  6182        1984  Graduation   relationship  26646.0        1         0   \n",
      "4  5324        1981         PhD   relationship  58293.0        1         0   \n",
      "\n",
      "  Dt_Customer  Recency  MntWines  ...  NumStorePurchases  NumWebVisitsMonth  \\\n",
      "0    4/9/2012       58       635  ...                  4                  7   \n",
      "1    8/3/2014       38        11  ...                  2                  5   \n",
      "2  21-08-2013       26       426  ...                 10                  4   \n",
      "3   10/2/2014       26        11  ...                  4                  6   \n",
      "4  19-01-2014       94       173  ...                  6                  5   \n",
      "\n",
      "   AcceptedCmp3  AcceptedCmp4  AcceptedCmp5  AcceptedCmp1  AcceptedCmp2  \\\n",
      "0             0             0             0             0             0   \n",
      "1             0             0             0             0             0   \n",
      "2             0             0             0             0             0   \n",
      "3             0             0             0             0             0   \n",
      "4             0             0             0             0             0   \n",
      "\n",
      "   Complain  Response  Total_Expenses  \n",
      "0         0         1            1617  \n",
      "1         0         0              27  \n",
      "2         0         0             776  \n",
      "3         0         0              53  \n",
      "4         0         0             422  \n",
      "\n",
      "[5 rows x 28 columns]\n"
     ]
    }
   ],
   "source": [
    "# Create a new column 'Total_Expenses' by summing the specified columns\n",
    "df['Total_Expenses'] = df[['MntWines', 'MntFruits', 'MntMeatProducts', 'MntFishProducts', 'MntSweetProducts', 'MntGoldProds']].sum(axis=1)\n",
    "\n",
    "# Print the first few rows of the DataFrame to verify the changes\n",
    "print(df.head())\n"
   ]
  },
  {
   "cell_type": "markdown",
   "id": "bf0cd083",
   "metadata": {
    "id": "bf0cd083"
   },
   "source": [
    "### 8. Group the columns 'NumWebPurchases', 'NumCatalogPurchases', 'NumStorePurchases', and 'NumDealsPurchases' as 'Num_Total_Purchases'"
   ]
  },
  {
   "cell_type": "code",
   "execution_count": 27,
   "id": "9c535ede",
   "metadata": {
    "id": "9c535ede"
   },
   "outputs": [
    {
     "name": "stdout",
     "output_type": "stream",
     "text": [
      "     ID  Year_Birth   Education Marital_Status   Income  Kidhome  Teenhome  \\\n",
      "0  5524        1957  Graduation         Single  58138.0        0         0   \n",
      "1  2174        1954  Graduation         Single  46344.0        1         1   \n",
      "2  4141        1965  Graduation   relationship  71613.0        0         0   \n",
      "3  6182        1984  Graduation   relationship  26646.0        1         0   \n",
      "4  5324        1981         PhD   relationship  58293.0        1         0   \n",
      "\n",
      "  Dt_Customer  Recency  MntWines  ...  NumWebVisitsMonth  AcceptedCmp3  \\\n",
      "0    4/9/2012       58       635  ...                  7             0   \n",
      "1    8/3/2014       38        11  ...                  5             0   \n",
      "2  21-08-2013       26       426  ...                  4             0   \n",
      "3   10/2/2014       26        11  ...                  6             0   \n",
      "4  19-01-2014       94       173  ...                  5             0   \n",
      "\n",
      "   AcceptedCmp4  AcceptedCmp5  AcceptedCmp1  AcceptedCmp2  Complain  Response  \\\n",
      "0             0             0             0             0         0         1   \n",
      "1             0             0             0             0         0         0   \n",
      "2             0             0             0             0         0         0   \n",
      "3             0             0             0             0         0         0   \n",
      "4             0             0             0             0         0         0   \n",
      "\n",
      "   Total_Expenses  Num_Total_Purchases  \n",
      "0            1617                   25  \n",
      "1              27                    6  \n",
      "2             776                   21  \n",
      "3              53                    8  \n",
      "4             422                   19  \n",
      "\n",
      "[5 rows x 29 columns]\n"
     ]
    }
   ],
   "source": [
    "# Create a new column 'Num_Total_Purchases' by summing the specified columns\n",
    "df['Num_Total_Purchases'] = df[['NumWebPurchases', 'NumCatalogPurchases', 'NumStorePurchases', 'NumDealsPurchases']].sum(axis=1)\n",
    "\n",
    "# Print the first few rows of the DataFrame to verify the changes\n",
    "print(df.head())\n"
   ]
  },
  {
   "cell_type": "markdown",
   "id": "52d2dca5",
   "metadata": {
    "id": "52d2dca5"
   },
   "source": [
    "### 9. Group the columns 'Kidhome' and 'Teenhome' as 'Kids'"
   ]
  },
  {
   "cell_type": "code",
   "execution_count": 28,
   "id": "f7c861a1",
   "metadata": {
    "id": "f7c861a1"
   },
   "outputs": [
    {
     "name": "stdout",
     "output_type": "stream",
     "text": [
      "     ID  Year_Birth   Education Marital_Status   Income  Kidhome  Teenhome  \\\n",
      "0  5524        1957  Graduation         Single  58138.0        0         0   \n",
      "1  2174        1954  Graduation         Single  46344.0        1         1   \n",
      "2  4141        1965  Graduation   relationship  71613.0        0         0   \n",
      "3  6182        1984  Graduation   relationship  26646.0        1         0   \n",
      "4  5324        1981         PhD   relationship  58293.0        1         0   \n",
      "\n",
      "  Dt_Customer  Recency  MntWines  ...  AcceptedCmp3  AcceptedCmp4  \\\n",
      "0    4/9/2012       58       635  ...             0             0   \n",
      "1    8/3/2014       38        11  ...             0             0   \n",
      "2  21-08-2013       26       426  ...             0             0   \n",
      "3   10/2/2014       26        11  ...             0             0   \n",
      "4  19-01-2014       94       173  ...             0             0   \n",
      "\n",
      "   AcceptedCmp5  AcceptedCmp1  AcceptedCmp2  Complain  Response  \\\n",
      "0             0             0             0         0         1   \n",
      "1             0             0             0         0         0   \n",
      "2             0             0             0         0         0   \n",
      "3             0             0             0         0         0   \n",
      "4             0             0             0         0         0   \n",
      "\n",
      "   Total_Expenses  Num_Total_Purchases  Kids  \n",
      "0            1617                   25     0  \n",
      "1              27                    6     2  \n",
      "2             776                   21     0  \n",
      "3              53                    8     1  \n",
      "4             422                   19     1  \n",
      "\n",
      "[5 rows x 30 columns]\n"
     ]
    }
   ],
   "source": [
    "# Create a new column 'Kids' by summing the specified columns\n",
    "df['Kids'] = df['Kidhome'] + df['Teenhome']\n",
    "\n",
    "# Print the first few rows of the DataFrame to verify the changes\n",
    "print(df.head())\n"
   ]
  },
  {
   "cell_type": "markdown",
   "id": "36f67474",
   "metadata": {
    "id": "36f67474"
   },
   "source": [
    "### 10. Group columns 'AcceptedCmp1 , 2 , 3 , 4, 5' and 'Response' as 'TotalAcceptedCmp'"
   ]
  },
  {
   "cell_type": "code",
   "execution_count": 29,
   "id": "ecc9109f",
   "metadata": {
    "id": "ecc9109f"
   },
   "outputs": [
    {
     "name": "stdout",
     "output_type": "stream",
     "text": [
      "     ID  Year_Birth   Education Marital_Status   Income  Kidhome  Teenhome  \\\n",
      "0  5524        1957  Graduation         Single  58138.0        0         0   \n",
      "1  2174        1954  Graduation         Single  46344.0        1         1   \n",
      "2  4141        1965  Graduation   relationship  71613.0        0         0   \n",
      "3  6182        1984  Graduation   relationship  26646.0        1         0   \n",
      "4  5324        1981         PhD   relationship  58293.0        1         0   \n",
      "\n",
      "  Dt_Customer  Recency  MntWines  ...  AcceptedCmp4  AcceptedCmp5  \\\n",
      "0    4/9/2012       58       635  ...             0             0   \n",
      "1    8/3/2014       38        11  ...             0             0   \n",
      "2  21-08-2013       26       426  ...             0             0   \n",
      "3   10/2/2014       26        11  ...             0             0   \n",
      "4  19-01-2014       94       173  ...             0             0   \n",
      "\n",
      "   AcceptedCmp1  AcceptedCmp2  Complain  Response  Total_Expenses  \\\n",
      "0             0             0         0         1            1617   \n",
      "1             0             0         0         0              27   \n",
      "2             0             0         0         0             776   \n",
      "3             0             0         0         0              53   \n",
      "4             0             0         0         0             422   \n",
      "\n",
      "   Num_Total_Purchases  Kids  TotalAcceptedCmp  \n",
      "0                   25     0                 1  \n",
      "1                    6     2                 0  \n",
      "2                   21     0                 0  \n",
      "3                    8     1                 0  \n",
      "4                   19     1                 0  \n",
      "\n",
      "[5 rows x 31 columns]\n"
     ]
    }
   ],
   "source": [
    "# Create a new column 'TotalAcceptedCmp' by summing the specified columns\n",
    "accepted_cmp_columns = ['AcceptedCmp1', 'AcceptedCmp2', 'AcceptedCmp3', 'AcceptedCmp4', 'AcceptedCmp5', 'Response']\n",
    "df['TotalAcceptedCmp'] = df[accepted_cmp_columns].sum(axis=1)\n",
    "\n",
    "# Print the first few rows of the DataFrame to verify the changes\n",
    "print(df.head())\n"
   ]
  },
  {
   "cell_type": "markdown",
   "id": "886bfb08",
   "metadata": {
    "id": "886bfb08"
   },
   "source": [
    "### 11. Drop those columns which we have used above for obtaining new features"
   ]
  },
  {
   "cell_type": "code",
   "execution_count": 30,
   "id": "e853e663",
   "metadata": {
    "id": "e853e663"
   },
   "outputs": [
    {
     "name": "stdout",
     "output_type": "stream",
     "text": [
      "     ID  Year_Birth   Education Marital_Status   Income Dt_Customer  Recency  \\\n",
      "0  5524        1957  Graduation         Single  58138.0    4/9/2012       58   \n",
      "1  2174        1954  Graduation         Single  46344.0    8/3/2014       38   \n",
      "2  4141        1965  Graduation   relationship  71613.0  21-08-2013       26   \n",
      "3  6182        1984  Graduation   relationship  26646.0   10/2/2014       26   \n",
      "4  5324        1981         PhD   relationship  58293.0  19-01-2014       94   \n",
      "\n",
      "   NumWebVisitsMonth  Complain  Total_Expenses  Num_Total_Purchases  Kids  \\\n",
      "0                  7         0            1617                   25     0   \n",
      "1                  5         0              27                    6     2   \n",
      "2                  4         0             776                   21     0   \n",
      "3                  6         0              53                    8     1   \n",
      "4                  5         0             422                   19     1   \n",
      "\n",
      "   TotalAcceptedCmp  \n",
      "0                 1  \n",
      "1                 0  \n",
      "2                 0  \n",
      "3                 0  \n",
      "4                 0  \n"
     ]
    }
   ],
   "source": [
    "# List of columns to drop\n",
    "columns_to_drop = ['Kidhome', 'Teenhome', 'MntWines', 'MntFruits', 'MntMeatProducts', 'MntFishProducts', 'MntSweetProducts', 'MntGoldProds',\n",
    "                   'NumWebPurchases', 'NumCatalogPurchases', 'NumStorePurchases', 'NumDealsPurchases',\n",
    "                   'AcceptedCmp1', 'AcceptedCmp2', 'AcceptedCmp3', 'AcceptedCmp4', 'AcceptedCmp5', 'Response']\n",
    "\n",
    "# Drop the specified columns from the DataFrame\n",
    "df_cleaned = df.drop(columns=columns_to_drop)\n",
    "\n",
    "# Print the first few rows of the DataFrame to verify the changes\n",
    "print(df_cleaned.head())\n"
   ]
  },
  {
   "cell_type": "markdown",
   "id": "4225ced7",
   "metadata": {
    "id": "4225ced7"
   },
   "source": [
    "### 12. Extract 'age' using the column 'Year_Birth' and then drop the column 'Year_birth'"
   ]
  },
  {
   "cell_type": "code",
   "execution_count": 31,
   "id": "d517611e",
   "metadata": {
    "id": "d517611e"
   },
   "outputs": [
    {
     "name": "stdout",
     "output_type": "stream",
     "text": [
      "     ID   Education Marital_Status   Income  Kidhome  Teenhome Dt_Customer  \\\n",
      "0  5524  Graduation         Single  58138.0        0         0    4/9/2012   \n",
      "1  2174  Graduation         Single  46344.0        1         1    8/3/2014   \n",
      "2  4141  Graduation   relationship  71613.0        0         0  21-08-2013   \n",
      "3  6182  Graduation   relationship  26646.0        1         0   10/2/2014   \n",
      "4  5324         PhD   relationship  58293.0        1         0  19-01-2014   \n",
      "\n",
      "   Recency  MntWines  MntFruits  ...  AcceptedCmp5  AcceptedCmp1  \\\n",
      "0       58       635         88  ...             0             0   \n",
      "1       38        11          1  ...             0             0   \n",
      "2       26       426         49  ...             0             0   \n",
      "3       26        11          4  ...             0             0   \n",
      "4       94       173         43  ...             0             0   \n",
      "\n",
      "   AcceptedCmp2  Complain  Response  Total_Expenses  Num_Total_Purchases  \\\n",
      "0             0         0         1            1617                   25   \n",
      "1             0         0         0              27                    6   \n",
      "2             0         0         0             776                   21   \n",
      "3             0         0         0              53                    8   \n",
      "4             0         0         0             422                   19   \n",
      "\n",
      "   Kids  TotalAcceptedCmp  Age  \n",
      "0     0                 1   67  \n",
      "1     2                 0   70  \n",
      "2     0                 0   59  \n",
      "3     1                 0   40  \n",
      "4     1                 0   43  \n",
      "\n",
      "[5 rows x 31 columns]\n"
     ]
    }
   ],
   "source": [
    "import datetime\n",
    "\n",
    "# Calculate the current year\n",
    "current_year = datetime.datetime.now().year\n",
    "\n",
    "# Extract age from 'Year_Birth' column\n",
    "df['Age'] = current_year - df['Year_Birth']\n",
    "\n",
    "# Drop the 'Year_Birth' column\n",
    "df_cleaned = df.drop(columns=['Year_Birth'])\n",
    "\n",
    "# Print the first few rows of the DataFrame to verify the changes\n",
    "print(df_cleaned.head())\n"
   ]
  },
  {
   "cell_type": "markdown",
   "id": "f2d3c92d",
   "metadata": {
    "id": "f2d3c92d"
   },
   "source": [
    "### 13. Encode the categorical variables in the dataset"
   ]
  },
  {
   "cell_type": "code",
   "execution_count": 32,
   "id": "030cfc32",
   "metadata": {
    "id": "030cfc32"
   },
   "outputs": [
    {
     "name": "stdout",
     "output_type": "stream",
     "text": [
      "         ID  Year_Birth   Income  Kidhome  Teenhome  Recency  MntWines  \\\n",
      "0      5524        1957  58138.0        0         0       58       635   \n",
      "1      2174        1954  46344.0        1         1       38        11   \n",
      "2      4141        1965  71613.0        0         0       26       426   \n",
      "3      6182        1984  26646.0        1         0       26        11   \n",
      "4      5324        1981  58293.0        1         0       94       173   \n",
      "...     ...         ...      ...      ...       ...      ...       ...   \n",
      "2235  10870        1967  61223.0        0         1       46       709   \n",
      "2236   4001        1946  64014.0        2         1       56       406   \n",
      "2237   7270        1981  56981.0        0         0       91       908   \n",
      "2238   8235        1956  69245.0        0         1        8       428   \n",
      "2239   9405        1954  52869.0        1         1       40        84   \n",
      "\n",
      "      MntFruits  MntMeatProducts  MntFishProducts  ...  Dt_Customer_9/4/2014  \\\n",
      "0            88              546              172  ...                     0   \n",
      "1             1                6                2  ...                     0   \n",
      "2            49              127              111  ...                     0   \n",
      "3             4               20               10  ...                     0   \n",
      "4            43              118               46  ...                     0   \n",
      "...         ...              ...              ...  ...                   ...   \n",
      "2235         43              182               42  ...                     0   \n",
      "2236          0               30                0  ...                     0   \n",
      "2237         48              217               32  ...                     0   \n",
      "2238         30              214               80  ...                     0   \n",
      "2239          3               61                2  ...                     0   \n",
      "\n",
      "      Dt_Customer_9/5/2013  Dt_Customer_9/5/2014  Dt_Customer_9/6/2013  \\\n",
      "0                        0                     0                     0   \n",
      "1                        0                     0                     0   \n",
      "2                        0                     0                     0   \n",
      "3                        0                     0                     0   \n",
      "4                        0                     0                     0   \n",
      "...                    ...                   ...                   ...   \n",
      "2235                     0                     0                     0   \n",
      "2236                     0                     0                     0   \n",
      "2237                     0                     0                     0   \n",
      "2238                     0                     0                     0   \n",
      "2239                     0                     0                     0   \n",
      "\n",
      "      Dt_Customer_9/6/2014  Dt_Customer_9/7/2013  Dt_Customer_9/8/2012  \\\n",
      "0                        0                     0                     0   \n",
      "1                        0                     0                     0   \n",
      "2                        0                     0                     0   \n",
      "3                        0                     0                     0   \n",
      "4                        0                     0                     0   \n",
      "...                    ...                   ...                   ...   \n",
      "2235                     0                     0                     0   \n",
      "2236                     0                     0                     0   \n",
      "2237                     0                     0                     0   \n",
      "2238                     0                     0                     0   \n",
      "2239                     0                     0                     0   \n",
      "\n",
      "      Dt_Customer_9/8/2013  Dt_Customer_9/9/2012  Dt_Customer_9/9/2013  \n",
      "0                        0                     0                     0  \n",
      "1                        0                     0                     0  \n",
      "2                        0                     0                     0  \n",
      "3                        0                     0                     0  \n",
      "4                        0                     0                     0  \n",
      "...                    ...                   ...                   ...  \n",
      "2235                     0                     0                     0  \n",
      "2236                     0                     0                     0  \n",
      "2237                     0                     0                     0  \n",
      "2238                     0                     0                     0  \n",
      "2239                     0                     0                     0  \n",
      "\n",
      "[2240 rows x 696 columns]\n"
     ]
    }
   ],
   "source": [
    "# Apply one-hot encoding\n",
    "df_encoded = pd.get_dummies(df, drop_first=True)\n",
    "print(df_encoded)"
   ]
  },
  {
   "cell_type": "markdown",
   "id": "9242e36d",
   "metadata": {
    "id": "9242e36d"
   },
   "source": [
    "### 14. Standardize the columns, so that values are in a particular range"
   ]
  },
  {
   "cell_type": "code",
   "execution_count": 34,
   "id": "72475b68",
   "metadata": {
    "id": "72475b68"
   },
   "outputs": [
    {
     "name": "stdout",
     "output_type": "stream",
     "text": [
      "     ID   Education Marital_Status    Income  Kidhome  Teenhome Dt_Customer  \\\n",
      "0  5524  Graduation         Single  0.234063        0         0    4/9/2012   \n",
      "1  2174  Graduation         Single -0.234559        1         1    8/3/2014   \n",
      "2  4141  Graduation   relationship  0.769478        0         0  21-08-2013   \n",
      "3  6182  Graduation   relationship -1.017239        1         0   10/2/2014   \n",
      "4  5324         PhD   relationship  0.240221        1         0  19-01-2014   \n",
      "\n",
      "    Recency  MntWines  MntFruits  ...  AcceptedCmp5  AcceptedCmp1  \\\n",
      "0  0.307039       635         88  ...             0             0   \n",
      "1 -0.383664        11          1  ...             0             0   \n",
      "2 -0.798086       426         49  ...             0             0   \n",
      "3 -0.798086        11          4  ...             0             0   \n",
      "4  1.550305       173         43  ...             0             0   \n",
      "\n",
      "   AcceptedCmp2  Complain  Response  Total_Expenses  Num_Total_Purchases  \\\n",
      "0             0         0         1        1.679417             1.320826   \n",
      "1             0         0         0       -0.961275            -1.154596   \n",
      "2             0         0         0        0.282673             0.799685   \n",
      "3             0         0         0       -0.918094            -0.894025   \n",
      "4             0         0         0       -0.305254             0.539114   \n",
      "\n",
      "   Kids  TotalAcceptedCmp       Age  \n",
      "0     0          0.621248  0.985345  \n",
      "1     2         -0.501912  1.235733  \n",
      "2     0         -0.501912  0.317643  \n",
      "3     1         -0.501912 -1.268149  \n",
      "4     1         -0.501912 -1.017761  \n",
      "\n",
      "[5 rows x 31 columns]\n"
     ]
    }
   ],
   "source": [
    "from sklearn.preprocessing import StandardScaler\n",
    "\n",
    "# Extract numerical columns for standardization\n",
    "numerical_columns = ['Income', 'Recency', 'Total_Expenses', 'Num_Total_Purchases', 'TotalAcceptedCmp', 'Age']\n",
    "\n",
    "# Initialize StandardScaler\n",
    "scaler = StandardScaler()\n",
    "\n",
    "# Fit and transform the numerical columns\n",
    "df_cleaned[numerical_columns] = scaler.fit_transform(df_cleaned[numerical_columns])\n",
    "\n",
    "# Print the first few rows of the DataFrame to verify the changes\n",
    "print(df_cleaned.head())\n"
   ]
  },
  {
   "cell_type": "markdown",
   "id": "d063d2e2",
   "metadata": {
    "id": "d063d2e2"
   },
   "source": [
    "### 15. Apply PCA on the above dataset and determine the number of PCA components to be used so that 90-95% of the variance in data is explained by the same."
   ]
  },
  {
   "cell_type": "code",
   "execution_count": 36,
   "id": "6df3c70e",
   "metadata": {
    "id": "6df3c70e"
   },
   "outputs": [
    {
     "name": "stdout",
     "output_type": "stream",
     "text": [
      "Number of components to explain 90% of the variance: 1\n",
      "Number of components to explain 95% of the variance: 1\n"
     ]
    }
   ],
   "source": [
    "from sklearn.impute import SimpleImputer\n",
    "\n",
    "# Initialize the SimpleImputer with strategy 'mean' (or 'median' or 'most_frequent')\n",
    "imputer = SimpleImputer(strategy='mean')\n",
    "\n",
    "# Impute missing values\n",
    "numeric_df_imputed = pd.DataFrame(imputer.fit_transform(numeric_df), columns=numeric_df.columns)\n",
    "\n",
    "# Apply PCA on the imputed DataFrame\n",
    "pca.fit(numeric_df_imputed)\n",
    "\n",
    "# Calculate cumulative explained variance ratio\n",
    "cumulative_variance = pca.explained_variance_ratio_.cumsum()\n",
    "\n",
    "# Determine the number of components to explain 90-95% of the variance\n",
    "n_components_90 = sum(cumulative_variance < 0.90) + 1\n",
    "n_components_95 = sum(cumulative_variance < 0.95) + 1\n",
    "\n",
    "print(f\"Number of components to explain 90% of the variance: {n_components_90}\")\n",
    "print(f\"Number of components to explain 95% of the variance: {n_components_95}\")\n"
   ]
  },
  {
   "cell_type": "markdown",
   "id": "b2df19d7",
   "metadata": {
    "id": "b2df19d7"
   },
   "source": [
    "### 16. Apply K-means clustering and segment the data (Use PCA transformed data for clustering)"
   ]
  },
  {
   "cell_type": "code",
   "execution_count": 39,
   "id": "a3a8bb4c",
   "metadata": {
    "id": "a3a8bb4c"
   },
   "outputs": [
    {
     "name": "stdout",
     "output_type": "stream",
     "text": [
      "Shape of pca_data: (2240, 1)\n"
     ]
    },
    {
     "name": "stderr",
     "output_type": "stream",
     "text": [
      "C:\\Users\\ASUS-NB\\anaconda3\\Lib\\site-packages\\sklearn\\cluster\\_kmeans.py:1412: FutureWarning: The default value of `n_init` will change from 10 to 'auto' in 1.4. Set the value of `n_init` explicitly to suppress the warning\n",
      "  super()._check_params_vs_input(X, default_n_init=10)\n"
     ]
    },
    {
     "data": {
      "image/png": "[encoded data removed]",
      "text/plain": [
       "<Figure size 640x480 with 2 Axes>"
      ]
     },
     "metadata": {},
     "output_type": "display_data"
    }
   ],
   "source": [
    "# Apply PCA on the imputed DataFrame\n",
    "pca_data = pca.fit_transform(numeric_df_imputed)\n",
    "\n",
    "# Print the shape of pca_data\n",
    "print(\"Shape of pca_data:\", pca_data.shape)\n",
    "\n",
    "# Apply K-means clustering\n",
    "kmeans = KMeans(n_clusters=5, random_state=42)  # You can choose the number of clusters\n",
    "kmeans.fit(pca_data)\n",
    "\n",
    "# Get cluster labels\n",
    "cluster_labels = kmeans.labels_\n",
    "\n",
    "# Visualize the clusters\n",
    "plt.scatter(pca_data[:, 0], pca_data[:, 0], c=cluster_labels, cmap='viridis')  # Update indexing if needed\n",
    "plt.xlabel('Principal Component 1')\n",
    "plt.ylabel('Principal Component 1')  # Update label if needed\n",
    "plt.title('K-means Clustering')\n",
    "plt.colorbar(label='Cluster')\n",
    "plt.show()\n",
    "\n",
    "\n"
   ]
  },
  {
   "cell_type": "markdown",
   "id": "d8463aed",
   "metadata": {
    "id": "d8463aed"
   },
   "source": [
    "### 17. Apply Agglomerative clustering and segment the data (Use Original data for clustering), and perform cluster analysis by doing bivariate analysis between the cluster label and different features and write your observations."
   ]
  },
  {
   "cell_type": "code",
   "execution_count": 42,
   "id": "b5ca165b",
   "metadata": {
    "id": "b5ca165b"
   },
   "outputs": [
    {
     "name": "stdout",
     "output_type": "stream",
     "text": [
      "         ID   Education Marital_Status    Income  Kidhome  Teenhome  \\\n",
      "0      5524  Graduation         Single  0.234063        0         0   \n",
      "1      2174  Graduation         Single -0.234559        1         1   \n",
      "2      4141  Graduation   relationship  0.769478        0         0   \n",
      "3      6182  Graduation   relationship -1.017239        1         0   \n",
      "4      5324         PhD   relationship  0.240221        1         0   \n",
      "...     ...         ...            ...       ...      ...       ...   \n",
      "2235  10870  Graduation   relationship  0.356642        0         1   \n",
      "2236   4001         PhD   relationship  0.467539        2         1   \n",
      "2237   7270  Graduation         Single  0.188091        0         0   \n",
      "2238   8235      Master   relationship  0.675388        0         1   \n",
      "2239   9405         PhD   relationship  0.024705        1         1   \n",
      "\n",
      "     Dt_Customer   Recency  MntWines  MntFruits  ...  AcceptedCmp1  \\\n",
      "0       4/9/2012  0.307039       635         88  ...             0   \n",
      "1       8/3/2014 -0.383664        11          1  ...             0   \n",
      "2     21-08-2013 -0.798086       426         49  ...             0   \n",
      "3      10/2/2014 -0.798086        11          4  ...             0   \n",
      "4     19-01-2014  1.550305       173         43  ...             0   \n",
      "...          ...       ...       ...        ...  ...           ...   \n",
      "2235  13-06-2013 -0.107383       709         43  ...             0   \n",
      "2236   10/6/2014  0.237969       406          0  ...             1   \n",
      "2237  25-01-2014  1.446700       908         48  ...             0   \n",
      "2238  24-01-2014 -1.419719       428         30  ...             0   \n",
      "2239  15-10-2012 -0.314594        84          3  ...             0   \n",
      "\n",
      "      AcceptedCmp2  Complain  Response  Total_Expenses  Num_Total_Purchases  \\\n",
      "0                0         0         1        1.679417             1.320826   \n",
      "1                0         0         0       -0.961275            -1.154596   \n",
      "2                0         0         0        0.282673             0.799685   \n",
      "3                0         0         0       -0.918094            -0.894025   \n",
      "4                0         0         0       -0.305254             0.539114   \n",
      "...            ...       ...       ...             ...                  ...   \n",
      "2235             0         0         0        1.221032             0.408829   \n",
      "2236             0         0         0       -0.268717             0.929970   \n",
      "2237             0         0         0        1.054951             0.539114   \n",
      "2238             0         0         0        0.393948             1.060255   \n",
      "2239             0         0         1       -0.720458            -0.503169   \n",
      "\n",
      "      Kids  TotalAcceptedCmp       Age  Cluster  \n",
      "0        0          0.621248  0.985345        0  \n",
      "1        2         -0.501912  1.235733        1  \n",
      "2        0         -0.501912  0.317643        2  \n",
      "3        1         -0.501912 -1.268149        3  \n",
      "4        1         -0.501912 -1.017761        4  \n",
      "...    ...               ...       ...      ...  \n",
      "2235     1         -0.501912  0.150717        2  \n",
      "2236     3          0.621248  1.903435        2  \n",
      "2237     0          0.621248 -1.017761        0  \n",
      "2238     1         -0.501912  1.068807        2  \n",
      "2239     2          0.621248  1.235733        1  \n",
      "\n",
      "[2216 rows x 32 columns]\n"
     ]
    }
   ],
   "source": [
    "from sklearn.cluster import AgglomerativeClustering\n",
    "import seaborn as sns\n",
    "\n",
    "# Assuming df_cleaned is your DataFrame\n",
    "\n",
    "# Drop any remaining missing values if any\n",
    "df_cleaned.dropna(inplace=True)\n",
    "\n",
    "# Extract features for clustering\n",
    "features = ['Income', 'Recency', 'Total_Expenses', 'Num_Total_Purchases', 'TotalAcceptedCmp', 'Age']\n",
    "\n",
    "# Initialize Agglomerative Clustering\n",
    "agg_clustering = AgglomerativeClustering(n_clusters=5)  # You can adjust the number of clusters\n",
    "\n",
    "# Fit Agglomerative Clustering on the original data\n",
    "cluster_labels = agg_clustering.fit_predict(df_cleaned[features])\n",
    "\n",
    "# Add cluster labels to the DataFrame\n",
    "df_cleaned['Cluster'] = cluster_labels\n",
    "print(df_cleaned)\n",
    "\n",
    "\n",
    "\n",
    "    \n",
    "#Cluster Distribution:\n",
    "\n",
    "# Cluster 0 appears to be the largest cluster, followed by Cluster 2 and Cluster 1.\n",
    "# The distribution of samples across clusters seems relatively balanced.\n",
    "# Bivariate Analysis:\n",
    "\n",
    "# Income Distribution by Cluster:\n",
    "# Cluster 3 shows higher average incomes compared to other clusters, indicating a potentially affluent segment.\n",
    "# Cluster 1 exhibits the lowest average income, suggesting a lower-income segment.\n",
    "# Total Expenses by Cluster:\n",
    "# Cluster 2 has the highest total expenses, indicating higher spending behavior.\n",
    "# Cluster 0 and Cluster 4 have moderate total expenses, while Cluster 3 shows lower total expenses.\n",
    "# Age Distribution by Cluster:\n",
    "# Cluster 4 has a higher proportion of younger customers, while Cluster 3 consists of older individuals.\n",
    "# Clusters 0, 1, and 2 show relatively balanced age distributions.\n",
    "\n",
    "    "
   ]
  },
  {
   "cell_type": "markdown",
   "id": "797a5ecd",
   "metadata": {
    "id": "797a5ecd"
   },
   "source": [
    "### Visualization and Interpretation of results"
   ]
  },
  {
   "cell_type": "code",
   "execution_count": 43,
   "id": "d1e75760",
   "metadata": {
    "id": "d1e75760"
   },
   "outputs": [
    {
     "data": {
      "image/png": "[encoded data removed]",
      "text/plain": [
       "<Figure size 800x600 with 1 Axes>"
      ]
     },
     "metadata": {},
     "output_type": "display_data"
    },
    {
     "data": {
      "image/png": "[encoded data removed]",
      "text/plain": [
       "<Figure size 800x600 with 1 Axes>"
      ]
     },
     "metadata": {},
     "output_type": "display_data"
    },
    {
     "data": {
      "image/png": "[encoded data removed]",
      "text/plain": [
       "<Figure size 800x600 with 1 Axes>"
      ]
     },
     "metadata": {},
     "output_type": "display_data"
    },
    {
     "data": {
      "image/png": "[encoded data removed]",
      "text/plain": [
       "<Figure size 800x600 with 1 Axes>"
      ]
     },
     "metadata": {},
     "output_type": "display_data"
    },
    {
     "data": {
      "image/png": "[encoded data removed]",
      "text/plain": [
       "<Figure size 800x600 with 1 Axes>"
      ]
     },
     "metadata": {},
     "output_type": "display_data"
    },
    {
     "data": {
      "image/png": "[encoded data removed]",
      "text/plain": [
       "<Figure size 800x600 with 1 Axes>"
      ]
     },
     "metadata": {},
     "output_type": "display_data"
    }
   ],
   "source": [
    "# Perform bivariate analysis\n",
    "for feature in features:\n",
    "    plt.figure(figsize=(8, 6))\n",
    "    sns.boxplot(x='Cluster', y=feature, data=df_cleaned)\n",
    "    plt.title(f'Bivariate Analysis: Cluster vs {feature}')\n",
    "    plt.xlabel('Cluster')\n",
    "    plt.ylabel(feature)\n",
    "    plt.show()\n",
    "    \n",
    "#     Interpretation:\n",
    "\n",
    "# The variation in income and spending behavior across clusters suggests different levels of purchasing power and consumer behavior.\n",
    "# Targeting marketing campaigns towards Cluster 3, with higher incomes, might yield better returns, while Cluster 1 may require more budget-conscious offerings.\n",
    "# Understanding age demographics can help tailor products and services to specific age groups within each cluster."
   ]
  },
  {
   "cell_type": "markdown",
   "id": "36afd95b",
   "metadata": {
    "id": "36afd95b"
   },
   "source": [
    "-----\n",
    "## Happy Learning\n",
    "-----"
   ]
  }
 ],
 "metadata": {
  "colab": {
   "collapsed_sections": [
    "36afd95b"
   ],
   "name": "Unsupervised Learning - Lab session.ipynb",
   "provenance": []
  },
  "kernelspec": {
   "display_name": "Python 3 (ipykernel)",
   "language": "python",
   "name": "python3"
  },
  "language_info": {
   "codemirror_mode": {
    "name": "ipython",
    "version": 3
   },
   "file_extension": ".py",
   "mimetype": "text/x-python",
   "name": "python",
   "nbconvert_exporter": "python",
   "pygments_lexer": "ipython3",
   "version": "3.11.4"
  }
 },
 "nbformat": 4,
 "nbformat_minor": 5
}
