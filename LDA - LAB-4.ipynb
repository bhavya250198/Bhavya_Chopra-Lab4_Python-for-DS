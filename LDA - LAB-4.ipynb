{
 "cells": [
  {
   "cell_type": "markdown",
   "metadata": {
    "id": "ldeiV8Rsjtcs"
   },
   "source": [
    "# Linear Discriminant Analysis"
   ]
  },
  {
   "cell_type": "markdown",
   "metadata": {
    "id": "gYFhHC31duWB"
   },
   "source": [
    "### Objective\n",
    "\n",
    "Training a Linear Discriminant Analysis(LDA) model to check if the product has been shipped or canceled.\n",
    "\n",
    "### Problem Statement\n",
    "\n",
    "XYZ.com is an e-commerce company based in Argentina. Due to the covid crisis and lockdown XYZ.com is facing lots of issues from the dealer and the shipment team.  XYZ.com has lots of product data where various shipping and sales details of each product have been mentioned. XYZ.com wants to find out which of the products has been shipped and which of the products has been canceled to reduce customer escalation. As a data-scientist, We have to train an LDA(Linear Discriminant Analysis) model to predict which of the product has been shipped and which of the product has been canceled."
   ]
  },
  {
   "cell_type": "markdown",
   "metadata": {
    "id": "ONVPFqgsL8ry"
   },
   "source": [
    "### 1. Import necessary libraries."
   ]
  },
  {
   "cell_type": "code",
   "execution_count": 25,
   "metadata": {},
   "outputs": [],
   "source": [
    "import numpy as np\n",
    "import pandas as pd\n",
    "import matplotlib.pyplot as plt\n",
    "import seaborn as sns\n",
    "from sklearn.model_selection import train_test_split\n",
    "from sklearn.metrics import classification_report,confusion_matrix,roc_curve,accuracy_score,auc,roc_auc_score\n",
    "from sklearn.ensemble import RandomForestClassifier\n",
    "from sklearn.preprocessing import StandardScaler,MinMaxScaler\n",
    "from sklearn.discriminant_analysis import LinearDiscriminantAnalysis as LDA"
   ]
  },
  {
   "cell_type": "markdown",
   "metadata": {
    "id": "QaMn72C6L8sG"
   },
   "source": [
    "### 2. Display a sample of five rows of the data frame"
   ]
  },
  {
   "cell_type": "code",
   "execution_count": 7,
   "metadata": {},
   "outputs": [
    {
     "name": "stdout",
     "output_type": "stream",
     "text": [
      "      ORDERNUMBER  QUANTITYORDERED  PRICEEACH  ORDERLINENUMBER    SALES  \\\n",
      "1408        10311               25      66.99                2  1674.75   \n",
      "1324        10207               47     100.00               16  6658.02   \n",
      "1957        10273               48      83.02                3  3984.96   \n",
      "1752        10198               48      67.82                5  3255.36   \n",
      "2780        10222               31      45.69                7  1416.39   \n",
      "\n",
      "            ORDERDATE   STATUS  QTR_ID  MONTH_ID  YEAR_ID  ...  \\\n",
      "1408  10/16/2004 0:00  Shipped       4        10     2004  ...   \n",
      "1324   12/9/2003 0:00  Shipped       4        12     2003  ...   \n",
      "1957   7/21/2004 0:00  Shipped       3         7     2004  ...   \n",
      "1752  11/27/2003 0:00  Shipped       4        11     2003  ...   \n",
      "2780   2/19/2004 0:00  Shipped       1         2     2004  ...   \n",
      "\n",
      "                                    ADDRESSLINE1  ADDRESSLINE2         CITY  \\\n",
      "1408                          C/ Moralzarzal, 86           NaN       Madrid   \n",
      "1324                              6251 Ingle Ln.           NaN       Boston   \n",
      "1957                         Rue Joseph-Bens 532           NaN    Bruxelles   \n",
      "1752  15 McCallum Street - NatWest Center #13-03           NaN  Makati City   \n",
      "2780                            361 Furth Circle           NaN    San Diego   \n",
      "\n",
      "     STATE POSTALCODE      COUNTRY TERRITORY CONTACTLASTNAME CONTACTFIRSTNAME  \\\n",
      "1408   NaN      28034        Spain      EMEA          Freyre            Diego   \n",
      "1324    MA      51003          USA       NaN          Franco          Valarie   \n",
      "1957   NaN     B-1180      Belgium      EMEA           Dewey        Catherine   \n",
      "1752   NaN    1227 MM  Philippines     Japan            Cruz           Arnold   \n",
      "2780    CA      91217          USA       NaN        Thompson          Valarie   \n",
      "\n",
      "     DEALSIZE  \n",
      "1408    Small  \n",
      "1324   Medium  \n",
      "1957   Medium  \n",
      "1752   Medium  \n",
      "2780    Small  \n",
      "\n",
      "[5 rows x 25 columns]\n"
     ]
    }
   ],
   "source": [
    "df = pd.read_csv(\"C:/Users/ASUS-NB/Downloads/LDA/sales_data_sample.csv\",encoding='unicode_escape')\n",
    "print(df.sample(n=5))"
   ]
  },
  {
   "cell_type": "markdown",
   "metadata": {
    "id": "IDdvMs2rL8sK"
   },
   "source": [
    "### 3. Check the shape of the data (number of rows and column). Check the general information about the dataframe using .info() method."
   ]
  },
  {
   "cell_type": "code",
   "execution_count": 9,
   "metadata": {},
   "outputs": [
    {
     "name": "stdout",
     "output_type": "stream",
     "text": [
      "(2823, 25)\n",
      "<class 'pandas.core.frame.DataFrame'>\n",
      "RangeIndex: 2823 entries, 0 to 2822\n",
      "Data columns (total 25 columns):\n",
      " #   Column            Non-Null Count  Dtype  \n",
      "---  ------            --------------  -----  \n",
      " 0   ORDERNUMBER       2823 non-null   int64  \n",
      " 1   QUANTITYORDERED   2823 non-null   int64  \n",
      " 2   PRICEEACH         2823 non-null   float64\n",
      " 3   ORDERLINENUMBER   2823 non-null   int64  \n",
      " 4   SALES             2823 non-null   float64\n",
      " 5   ORDERDATE         2823 non-null   object \n",
      " 6   STATUS            2823 non-null   object \n",
      " 7   QTR_ID            2823 non-null   int64  \n",
      " 8   MONTH_ID          2823 non-null   int64  \n",
      " 9   YEAR_ID           2823 non-null   int64  \n",
      " 10  PRODUCTLINE       2823 non-null   object \n",
      " 11  MSRP              2823 non-null   int64  \n",
      " 12  PRODUCTCODE       2823 non-null   object \n",
      " 13  CUSTOMERNAME      2823 non-null   object \n",
      " 14  PHONE             2823 non-null   object \n",
      " 15  ADDRESSLINE1      2823 non-null   object \n",
      " 16  ADDRESSLINE2      302 non-null    object \n",
      " 17  CITY              2823 non-null   object \n",
      " 18  STATE             1337 non-null   object \n",
      " 19  POSTALCODE        2747 non-null   object \n",
      " 20  COUNTRY           2823 non-null   object \n",
      " 21  TERRITORY         1749 non-null   object \n",
      " 22  CONTACTLASTNAME   2823 non-null   object \n",
      " 23  CONTACTFIRSTNAME  2823 non-null   object \n",
      " 24  DEALSIZE          2823 non-null   object \n",
      "dtypes: float64(2), int64(7), object(16)\n",
      "memory usage: 551.5+ KB\n",
      "None\n"
     ]
    }
   ],
   "source": [
    "print(df.shape)\n",
    "print(df.info())"
   ]
  },
  {
   "cell_type": "markdown",
   "metadata": {
    "id": "szbU2qr6L8sM"
   },
   "source": [
    "### 4.Check the percentage of missing values in each column of the data frame."
   ]
  },
  {
   "cell_type": "code",
   "execution_count": 10,
   "metadata": {},
   "outputs": [
    {
     "name": "stdout",
     "output_type": "stream",
     "text": [
      "Percentage of missing values in each column:\n",
      "ORDERNUMBER          0.000000\n",
      "QUANTITYORDERED      0.000000\n",
      "PRICEEACH            0.000000\n",
      "ORDERLINENUMBER      0.000000\n",
      "SALES                0.000000\n",
      "ORDERDATE            0.000000\n",
      "STATUS               0.000000\n",
      "QTR_ID               0.000000\n",
      "MONTH_ID             0.000000\n",
      "YEAR_ID              0.000000\n",
      "PRODUCTLINE          0.000000\n",
      "MSRP                 0.000000\n",
      "PRODUCTCODE          0.000000\n",
      "CUSTOMERNAME         0.000000\n",
      "PHONE                0.000000\n",
      "ADDRESSLINE1         0.000000\n",
      "ADDRESSLINE2        89.302161\n",
      "CITY                 0.000000\n",
      "STATE               52.639036\n",
      "POSTALCODE           2.692171\n",
      "COUNTRY              0.000000\n",
      "TERRITORY           38.044633\n",
      "CONTACTLASTNAME      0.000000\n",
      "CONTACTFIRSTNAME     0.000000\n",
      "DEALSIZE             0.000000\n",
      "dtype: float64\n"
     ]
    }
   ],
   "source": [
    "missing_percentage = df.isnull().mean() * 100\n",
    "\n",
    "# Display the result\n",
    "print(\"Percentage of missing values in each column:\")\n",
    "print(missing_percentage)"
   ]
  },
  {
   "cell_type": "markdown",
   "metadata": {
    "id": "x3qZ-nzYL8sQ"
   },
   "source": [
    "### 5. Check if there are any duplicate rows."
   ]
  },
  {
   "cell_type": "code",
   "execution_count": 11,
   "metadata": {},
   "outputs": [
    {
     "name": "stdout",
     "output_type": "stream",
     "text": [
      "Duplicate rows:\n",
      "Empty DataFrame\n",
      "Columns: [ORDERNUMBER, QUANTITYORDERED, PRICEEACH, ORDERLINENUMBER, SALES, ORDERDATE, STATUS, QTR_ID, MONTH_ID, YEAR_ID, PRODUCTLINE, MSRP, PRODUCTCODE, CUSTOMERNAME, PHONE, ADDRESSLINE1, ADDRESSLINE2, CITY, STATE, POSTALCODE, COUNTRY, TERRITORY, CONTACTLASTNAME, CONTACTFIRSTNAME, DEALSIZE]\n",
      "Index: []\n",
      "\n",
      "[0 rows x 25 columns]\n"
     ]
    }
   ],
   "source": [
    "# Check for duplicates\n",
    "duplicates = df[df.duplicated()]\n",
    "\n",
    "# Display the duplicates\n",
    "print(\"Duplicate rows:\")\n",
    "print(duplicates)"
   ]
  },
  {
   "cell_type": "markdown",
   "metadata": {
    "id": "EJAVN2EqL8sS"
   },
   "source": [
    "### 6. Write a function that will impute missing values of the columns “STATE”, “POSTALCODE”,“TERRITORY” with its most occurring label.  "
   ]
  },
  {
   "cell_type": "code",
   "execution_count": 12,
   "metadata": {},
   "outputs": [],
   "source": [
    "def impute_most_occuring_label(df, columns):\n",
    "    \"\"\"\n",
    "    Impute missing values in specified columns with the most occurring label.\n",
    "\n",
    "    Parameters:\n",
    "    - df: DataFrame\n",
    "    - columns: List of column names to impute\n",
    "\n",
    "    Returns:\n",
    "    - df: Updated DataFrame with imputed values\n",
    "    \"\"\"\n",
    "\n",
    "    for column in columns:\n",
    "        most_occuring_label = df[column].mode().iloc[0]  # Get the most occurring label\n",
    "        df[column].fillna(most_occuring_label, inplace=True)  # Fill missing values\n",
    "\n",
    "    return df\n",
    "columns_to_impute = [\"STATE\", \"POSTALCODE\", \"TERRITORY\"]\n",
    "\n",
    "# Call the function to impute missing values\n",
    "df = impute_most_occuring_label(df, columns_to_impute)"
   ]
  },
  {
   "cell_type": "markdown",
   "metadata": {
    "id": "5E9L2utWL8sT"
   },
   "source": [
    "### 7. Drop “ADDRESSLINE2”,”ORDERDATE”,”PHONE” column."
   ]
  },
  {
   "cell_type": "code",
   "execution_count": 13,
   "metadata": {},
   "outputs": [],
   "source": [
    "columns_to_drop = [\"ADDRESSLINE2\", \"ORDERDATE\", \"PHONE\"]\n",
    "\n",
    "# Drop the specified columns\n",
    "df.drop(columns=columns_to_drop, inplace=True)"
   ]
  },
  {
   "cell_type": "markdown",
   "metadata": {
    "id": "gLSwZF8WL8sV"
   },
   "source": [
    "### 8. Convert the labels of the STATUS column to 0 and 1. For Shipped assign value 1 and for all other labels (i.e. ‘Cancelled’,’ Resolved’,’ On Hold’,’ In Process’, 'Disputed') assign 0. Note we will consider everything apart from Shipped as cancel (i.e. 0).\n"
   ]
  },
  {
   "cell_type": "code",
   "execution_count": 15,
   "metadata": {},
   "outputs": [
    {
     "name": "stdout",
     "output_type": "stream",
     "text": [
      "      ORDERNUMBER  QUANTITYORDERED  PRICEEACH  ORDERLINENUMBER    SALES  \\\n",
      "0           10107               30      95.70                2  2871.00   \n",
      "1           10121               34      81.35                5  2765.90   \n",
      "2           10134               41      94.74                2  3884.34   \n",
      "3           10145               45      83.26                6  3746.70   \n",
      "4           10159               49     100.00               14  5205.27   \n",
      "...           ...              ...        ...              ...      ...   \n",
      "2818        10350               20     100.00               15  2244.40   \n",
      "2819        10373               29     100.00                1  3978.51   \n",
      "2820        10386               43     100.00                4  5417.57   \n",
      "2821        10397               34      62.24                1  2116.16   \n",
      "2822        10414               47      65.52                9  3079.44   \n",
      "\n",
      "      STATUS  QTR_ID  MONTH_ID  YEAR_ID  PRODUCTLINE  ...  \\\n",
      "0          1       1         2     2003  Motorcycles  ...   \n",
      "1          1       2         5     2003  Motorcycles  ...   \n",
      "2          1       3         7     2003  Motorcycles  ...   \n",
      "3          1       3         8     2003  Motorcycles  ...   \n",
      "4          1       4        10     2003  Motorcycles  ...   \n",
      "...      ...     ...       ...      ...          ...  ...   \n",
      "2818       1       4        12     2004        Ships  ...   \n",
      "2819       1       1         1     2005        Ships  ...   \n",
      "2820       0       1         3     2005        Ships  ...   \n",
      "2821       1       1         3     2005        Ships  ...   \n",
      "2822       0       2         5     2005        Ships  ...   \n",
      "\n",
      "                  CUSTOMERNAME                   ADDRESSLINE1           CITY  \\\n",
      "0            Land of Toys Inc.        897 Long Airport Avenue            NYC   \n",
      "1           Reims Collectables             59 rue de l'Abbaye          Reims   \n",
      "2              Lyon Souveniers  27 rue du Colonel Pierre Avia          Paris   \n",
      "3            Toys4GrownUps.com             78934 Hillside Dr.       Pasadena   \n",
      "4     Corporate Gift Ideas Co.                7734 Strong St.  San Francisco   \n",
      "...                        ...                            ...            ...   \n",
      "2818     Euro Shopping Channel             C/ Moralzarzal, 86         Madrid   \n",
      "2819   Oulu Toy Supplies, Inc.                    Torikatu 38           Oulu   \n",
      "2820     Euro Shopping Channel             C/ Moralzarzal, 86         Madrid   \n",
      "2821              Alpha Cognac          1 rue Alsace-Lorraine       Toulouse   \n",
      "2822         Gifts4AllAges.com             8616 Spinnaker Dr.         Boston   \n",
      "\n",
      "     STATE POSTALCODE  COUNTRY TERRITORY CONTACTLASTNAME CONTACTFIRSTNAME  \\\n",
      "0       NY      10022      USA      EMEA              Yu             Kwai   \n",
      "1       CA      51100   France      EMEA         Henriot             Paul   \n",
      "2       CA      75508   France      EMEA        Da Cunha           Daniel   \n",
      "3       CA      90003      USA      EMEA           Young            Julie   \n",
      "4       CA      28034      USA      EMEA           Brown            Julie   \n",
      "...    ...        ...      ...       ...             ...              ...   \n",
      "2818    CA      28034    Spain      EMEA          Freyre            Diego   \n",
      "2819    CA      90110  Finland      EMEA       Koskitalo           Pirkko   \n",
      "2820    CA      28034    Spain      EMEA          Freyre            Diego   \n",
      "2821    CA      31000   France      EMEA          Roulet          Annette   \n",
      "2822    MA      51003      USA      EMEA         Yoshido             Juri   \n",
      "\n",
      "     DEALSIZE  \n",
      "0       Small  \n",
      "1       Small  \n",
      "2      Medium  \n",
      "3      Medium  \n",
      "4      Medium  \n",
      "...       ...  \n",
      "2818    Small  \n",
      "2819   Medium  \n",
      "2820   Medium  \n",
      "2821    Small  \n",
      "2822   Medium  \n",
      "\n",
      "[2823 rows x 22 columns]\n"
     ]
    }
   ],
   "source": [
    "status_mapping = {'Shipped': 1, 'Cancelled': 0, 'Resolved': 0, 'On Hold': 0, 'In Process': 0, 'Disputed': 0}\n",
    "\n",
    "# Convert the labels of the STATUS column\n",
    "df['STATUS'] = df['STATUS'].replace(status_mapping)\n",
    "\n",
    "# Display the updated DataFrame\n",
    "print(df)"
   ]
  },
  {
   "cell_type": "markdown",
   "metadata": {
    "id": "Bz2U3ei23GL8"
   },
   "source": [
    "### 9. Encode the categorical features using dummy encoding"
   ]
  },
  {
   "cell_type": "code",
   "execution_count": 16,
   "metadata": {},
   "outputs": [],
   "source": [
    "df = pd.get_dummies(df,drop_first=True)"
   ]
  },
  {
   "cell_type": "markdown",
   "metadata": {
    "id": "sXTGIBksL8sW"
   },
   "source": [
    "### 10. Separate the target and independent features"
   ]
  },
  {
   "cell_type": "code",
   "execution_count": 21,
   "metadata": {},
   "outputs": [],
   "source": [
    "X = df.drop('STATUS',axis=1)\n",
    "y = df['STATUS']"
   ]
  },
  {
   "cell_type": "markdown",
   "metadata": {
    "id": "SM-lcPd43GL8"
   },
   "source": [
    "### 11. Split the dataset into two parts (i.e. 80% train and 20% test) using random_state=42. "
   ]
  },
  {
   "cell_type": "code",
   "execution_count": 22,
   "metadata": {},
   "outputs": [
    {
     "name": "stdout",
     "output_type": "stream",
     "text": [
      "Training set shape:\n",
      "(2258, 633) (2258,)\n",
      "\n",
      "Testing set shape:\n",
      "(565, 633) (565,)\n"
     ]
    }
   ],
   "source": [
    "X_train, X_test, y_train, y_test = train_test_split(X, y, test_size=0.2, random_state=42)\n",
    "\n",
    "# Display the shapes of the resulting datasets\n",
    "print(\"Training set shape:\")\n",
    "print(X_train.shape, y_train.shape)\n",
    "\n",
    "print(\"\\nTesting set shape:\")\n",
    "print(X_test.shape, y_test.shape)"
   ]
  },
  {
   "cell_type": "markdown",
   "metadata": {
    "id": "WKgjYhlcL8sX"
   },
   "source": [
    "### 11. Scale the data"
   ]
  },
  {
   "cell_type": "code",
   "execution_count": 26,
   "metadata": {},
   "outputs": [
    {
     "name": "stderr",
     "output_type": "stream",
     "text": [
      "C:\\Users\\ASUS-NB\\AppData\\Local\\Temp\\ipykernel_8096\\186529906.py:3: DeprecationWarning: In a future version, `df.iloc[:, i] = newvals` will attempt to set the values inplace instead of always setting a new array. To retain the old behavior, use either `df[df.columns[i]] = newvals` or, if columns are non-unique, `df.isetitem(i, newvals)`\n",
      "  X_train.iloc[:,:] = mm.fit_transform(X_train.iloc[:,:])\n",
      "C:\\Users\\ASUS-NB\\AppData\\Local\\Temp\\ipykernel_8096\\186529906.py:4: DeprecationWarning: In a future version, `df.iloc[:, i] = newvals` will attempt to set the values inplace instead of always setting a new array. To retain the old behavior, use either `df[df.columns[i]] = newvals` or, if columns are non-unique, `df.isetitem(i, newvals)`\n",
      "  X_test.iloc[:,:] = mm.transform(X_test.iloc[:,:])\n"
     ]
    }
   ],
   "source": [
    "mm = MinMaxScaler()\n",
    "\n",
    "X_train.iloc[:,:] = mm.fit_transform(X_train.iloc[:,:])\n",
    "X_test.iloc[:,:] = mm.transform(X_test.iloc[:,:])"
   ]
  },
  {
   "cell_type": "markdown",
   "metadata": {
    "id": "dCPqwLLSL8sc"
   },
   "source": [
    "## LDA "
   ]
  },
  {
   "cell_type": "markdown",
   "metadata": {
    "id": "G0tJG3Fs3GL9"
   },
   "source": [
    "### Traning a RandomForest Classfier model before applying LDA"
   ]
  },
  {
   "cell_type": "code",
   "execution_count": 27,
   "metadata": {},
   "outputs": [
    {
     "name": "stdout",
     "output_type": "stream",
     "text": [
      "Train Accuracy 0.9322409211691762\n",
      "Test Accuracy 0.9079646017699115\n",
      "**************************************************\n",
      "Train confusion matrix \n",
      " [[   1  153]\n",
      " [   0 2104]]\n",
      "Test confusion matrix \n",
      " [[  0  52]\n",
      " [  0 513]]\n"
     ]
    }
   ],
   "source": [
    "rf = RandomForestClassifier(max_depth=3,n_estimators=25)\n",
    "rf.fit(X_train,y_train)\n",
    "y_train_pred = rf.predict(X_train)\n",
    "y_test_pred = rf.predict(X_test)\n",
    "\n",
    "print(\"Train Accuracy\",accuracy_score(y_train,y_train_pred))\n",
    "print(\"Test Accuracy\",accuracy_score(y_test,y_test_pred))\n",
    "print(\"*\"*50)\n",
    "print(\"Train confusion matrix\",'\\n',confusion_matrix(y_train,y_train_pred))\n",
    "print(\"Test confusion matrix\",'\\n',confusion_matrix(y_test,y_test_pred))"
   ]
  },
  {
   "cell_type": "markdown",
   "metadata": {
    "id": "TD8eznYyL8sd"
   },
   "source": [
    "### Training a Linear Discriminant Analysis(LDA) model on the train data. Do fit_transform on the train data and only transform on the test data. "
   ]
  },
  {
   "cell_type": "code",
   "execution_count": 29,
   "metadata": {},
   "outputs": [
    {
     "data": {
      "text/plain": [
       "(array([[ 0.60496511],\n",
       "        [ 0.28984435],\n",
       "        [ 0.6028427 ],\n",
       "        [-0.21719613],\n",
       "        [ 0.27988057]]),\n",
       " array([[ 1.26394182],\n",
       "        [ 2.52900911],\n",
       "        [ 1.33478261],\n",
       "        [-2.94060547],\n",
       "        [ 0.7395123 ]]))"
      ]
     },
     "execution_count": 29,
     "metadata": {},
     "output_type": "execute_result"
    }
   ],
   "source": [
    "lda = LDA(n_components=1)\n",
    "\n",
    "X_train = lda.fit_transform(X_train, y_train)\n",
    "X_test = lda.transform(X_test)\n",
    "X_train[:5],X_test[:5]"
   ]
  },
  {
   "cell_type": "markdown",
   "metadata": {
    "id": "sh_3AzagL8se"
   },
   "source": [
    "### Training a random-forest model on the transformed data  and print the accuracy of train and test data. Take max_depth=3 and n_estimators=25 "
   ]
  },
  {
   "cell_type": "code",
   "execution_count": 30,
   "metadata": {},
   "outputs": [
    {
     "name": "stdout",
     "output_type": "stream",
     "text": [
      "Train Accuracy 0.9565987599645704\n",
      "Test Accuracy 0.9274336283185841\n",
      "**************************************************\n",
      "Train confusion matrix \n",
      " [[  91   63]\n",
      " [  35 2069]]\n",
      "Test confusion matrix \n",
      " [[ 21  31]\n",
      " [ 10 503]]\n"
     ]
    }
   ],
   "source": [
    "rf=RandomForestClassifier(max_depth=3,n_estimators=25)\n",
    "rf.fit(X_train,y_train)\n",
    "y_train_pred=rf.predict(X_train)\n",
    "y_test_pred=rf.predict(X_test)\n",
    "\n",
    "print(\"Train Accuracy\",accuracy_score(y_train,y_train_pred))\n",
    "print(\"Test Accuracy\",accuracy_score(y_test,y_test_pred))\n",
    "print(\"*\"*50)\n",
    "print(\"Train confusion matrix\",'\\n',confusion_matrix(y_train,y_train_pred))\n",
    "print(\"Test confusion matrix\",'\\n',confusion_matrix(y_test,y_test_pred))"
   ]
  },
  {
   "cell_type": "markdown",
   "metadata": {
    "id": "2xrTqw67L8se"
   },
   "source": [
    "### Conclusion "
   ]
  },
  {
   "cell_type": "markdown",
   "metadata": {
    "id": "IADYWZYZduWk"
   },
   "source": [
    "- As we can see we True negative and False negative points is zero before applying LDA but after applying LDA we are getting some amount of True negative and false negative points.\n",
    "- Due to class imbalance, the majority class has high recall but minority class has poor recall.\n"
   ]
  },
  {
   "cell_type": "markdown",
   "metadata": {
    "id": "FR3-tBckjtc9"
   },
   "source": [
    "### Happy Learning:)"
   ]
  }
 ],
 "metadata": {
  "colab": {
   "collapsed_sections": [],
   "name": "LDA - Hands on.ipynb",
   "provenance": []
  },
  "kernelspec": {
   "display_name": "Python 3 (ipykernel)",
   "language": "python",
   "name": "python3"
  },
  "language_info": {
   "codemirror_mode": {
    "name": "ipython",
    "version": 3
   },
   "file_extension": ".py",
   "mimetype": "text/x-python",
   "name": "python",
   "nbconvert_exporter": "python",
   "pygments_lexer": "ipython3",
   "version": "3.11.4"
  }
 },
 "nbformat": 4,
 "nbformat_minor": 1
}
